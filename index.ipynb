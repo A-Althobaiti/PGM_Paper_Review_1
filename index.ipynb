{
 "cells": [
  {
   "cell_type": "markdown",
   "metadata": {
    "slideshow": {
     "slide_type": "slide"
    }
   },
   "source": [
    "# Active Learning for Parameter Estimation\n",
    "# in Bayesian Networks\n",
    "\n",
    "## A Theoretical Review\n",
    "\n",
    "### Abdulrahman A. Althobaiti"
   ]
  },
  {
   "cell_type": "markdown",
   "metadata": {
    "slideshow": {
     "slide_type": "slide"
    }
   },
   "source": [
    "# Outline\n",
    "\n",
    "* Motivation\n",
    "* What is Active Learning?\n",
    "* Theoretical Framework\n",
    "* Algorithm Description"
   ]
  },
  {
   "cell_type": "markdown",
   "metadata": {
    "slideshow": {
     "slide_type": "slide"
    }
   },
   "source": [
    "# Motivation\n",
    "\n",
    "\n",
    "Most ML theoretical work is based on __random sampling__, requiring access to large number of samples.\n",
    "\n",
    "\n",
    "\n",
    "Is it possible to utilize domain knowledge in acquiring high precision while accessing small number of samples?"
   ]
  },
  {
   "cell_type": "markdown",
   "metadata": {
    "slideshow": {
     "slide_type": "slide"
    }
   },
   "source": [
    "# Active Learning\n",
    "\n",
    "In short, __Active Learning__ is the ability to select instances that are more likely to produce better models."
   ]
  },
  {
   "cell_type": "markdown",
   "metadata": {
    "slideshow": {
     "slide_type": "subslide"
    }
   },
   "source": [
    "## Sounds good, but is it practical?\n",
    "\n",
    "* Selective Learning, \"matching certain features\"\n",
    "    * __SELECT * FROM__ (research papers) __WHERE__ (PGMs) __IN__ (title).\n",
    "* Pool-Based Selective Learning, \"matching certain features to get more information\"\n",
    "    * __SELECT__ (Interests) __FROM__ (Faculty) __INNER JOIN__ (CS_Faculty) __ON__ (Faculty.Name = CS_Faculty.Name) __WHERE__ (PGMs) __IN__ (Interests)"
   ]
  },
  {
   "cell_type": "markdown",
   "metadata": {
    "slideshow": {
     "slide_type": "slide"
    }
   },
   "source": [
    "# Theoretical Framework"
   ]
  },
  {
   "cell_type": "markdown",
   "metadata": {
    "slideshow": {
     "slide_type": "subslide"
    }
   },
   "source": [
    "* __Assumption:__ \n",
    "    * the graphical structure is fixed, and we are in the process of estimating the parameters.\n",
    "    * parameters are independent.\n",
    "\n",
    "* __Claims:__\n",
    "    * Active learning converges to correct density although density estimation requires sampling.\n",
    "    * the proposed algorithm is able to reduce the number of instances significantly lower than random sampling to estimate the correct density."
   ]
  },
  {
   "cell_type": "markdown",
   "metadata": {
    "slideshow": {
     "slide_type": "skip"
    }
   },
   "source": [
    "## Framework\n",
    "\n"
   ]
  },
  {
   "cell_type": "markdown",
   "metadata": {
    "slideshow": {
     "slide_type": "slide"
    }
   },
   "source": [
    "# Algorithm Description"
   ]
  },
  {
   "cell_type": "code",
   "execution_count": null,
   "metadata": {
    "slideshow": {
     "slide_type": "subslide"
    }
   },
   "outputs": [],
   "source": [
    "def Active_Learner(G, Theta):\n",
    "    for q in generate_query(G, Theta):\n",
    "        x = execute_query(q)\n",
    "        Theta = compute_new_theta(x)"
   ]
  },
  {
   "cell_type": "markdown",
   "metadata": {
    "slideshow": {
     "slide_type": "subslide"
    }
   },
   "source": [
    "## Generating queries\n",
    "\n",
    "1. Use KL-Divergence "
   ]
  },
  {
   "cell_type": "markdown",
   "metadata": {
    "slideshow": {
     "slide_type": "slide"
    }
   },
   "source": [
    "# Conclusion\n",
    "\n",
    "* While the appraoch is Naïve, it has potential.\n",
    "* It lacks probabilistic inference.\n",
    "* The existence of the object is implied. (What if there is no Waldo)"
   ]
  },
  {
   "cell_type": "markdown",
   "metadata": {
    "slideshow": {
     "slide_type": "slide"
    }
   },
   "source": [
    "# Thank You\n",
    "\n",
    "## Abdulrahman A. Althobaiti"
   ]
  }
 ],
 "metadata": {
  "celltoolbar": "Slideshow",
  "kernelspec": {
   "display_name": "Python 3",
   "language": "python",
   "name": "python3"
  },
  "language_info": {
   "codemirror_mode": {
    "name": "ipython",
    "version": 3
   },
   "file_extension": ".py",
   "mimetype": "text/x-python",
   "name": "python",
   "nbconvert_exporter": "python",
   "pygments_lexer": "ipython3",
   "version": "3.6.5"
  }
 },
 "nbformat": 4,
 "nbformat_minor": 2
}
